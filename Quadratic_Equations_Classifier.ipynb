{
  "cells": [
    {
      "cell_type": "markdown",
      "metadata": {
        "id": "view-in-github",
        "colab_type": "text"
      },
      "source": [
        "<a href=\"https://colab.research.google.com/github/oleksnikolenko/quadratic_equation_classifier/blob/main/Quadratic_Equations_Classifier.ipynb\" target=\"_parent\"><img src=\"https://colab.research.google.com/assets/colab-badge.svg\" alt=\"Open In Colab\"/></a>"
      ]
    },
    {
      "cell_type": "markdown",
      "source": [
        "# Imports"
      ],
      "metadata": {
        "id": "O1OI-iERse2N"
      }
    },
    {
      "cell_type": "code",
      "execution_count": 142,
      "metadata": {
        "id": "m7U-pTlHN05J"
      },
      "outputs": [],
      "source": [
        "import numpy as np\n",
        "import pandas as pd\n",
        "import tensorflow as tf\n",
        "import tensorflow.keras.layers as tfl\n",
        "import seaborn as sbn\n",
        "from tensorflow import keras\n",
        "from tensorflow.keras.preprocessing.image import load_img\n",
        "from tensorflow.keras.applications import VGG16\n",
        "from tensorflow.keras.models import Model\n",
        "from tensorflow.keras.preprocessing.image import img_to_array\n",
        "from tensorflow.keras.preprocessing.image import ImageDataGenerator\n",
        "from tensorflow.keras.optimizers import Adam\n",
        "from sklearn.preprocessing import LabelBinarizer\n",
        "from sklearn.model_selection import train_test_split\n",
        "from sklearn.metrics import confusion_matrix\n",
        "from sklearn.model_selection import train_test_split\n",
        "from sklearn.preprocessing import MultiLabelBinarizer\n",
        "from matplotlib import pyplot as plt\n"
      ]
    },
    {
      "cell_type": "code",
      "source": [
        "from google.colab import drive\n",
        "drive.mount('/content/gdrive')"
      ],
      "metadata": {
        "colab": {
          "base_uri": "https://localhost:8080/"
        },
        "id": "rhD-LJLskeZN",
        "outputId": "81bbdd16-ce5b-4c02-c56b-60e83b4a8a3b"
      },
      "execution_count": 143,
      "outputs": [
        {
          "output_type": "stream",
          "name": "stdout",
          "text": [
            "Drive already mounted at /content/gdrive; to attempt to forcibly remount, call drive.mount(\"/content/gdrive\", force_remount=True).\n"
          ]
        }
      ]
    },
    {
      "cell_type": "markdown",
      "source": [
        "# Data Preprocessing"
      ],
      "metadata": {
        "id": "U45_isXWsqDH"
      }
    },
    {
      "cell_type": "code",
      "execution_count": 144,
      "metadata": {
        "id": "H91nJXnQtqjH"
      },
      "outputs": [],
      "source": [
        "# Parse data\n",
        "rows = pd.read_csv('/content/gdrive/MyDrive/train.csv')\n",
        "\n",
        "data = []\n",
        "quadratic_labels = []\n",
        "linear_labels = []\n",
        "constant_labels = []\n",
        "\n",
        "for i, row in rows.iterrows():\n",
        "  (filename, quadratic, linear, constant) = row\n",
        "  \n",
        "  imagePath = '/content/gdrive/MyDrive/training_set/' + filename\n",
        "  image = load_img(imagePath, target_size=(512, 512), color_mode='grayscale')\n",
        "  image = img_to_array(image)\n",
        "\n",
        "  data.append(image)\n",
        "  quadratic_labels.append(quadratic)\n",
        "  linear_labels.append(linear)\n",
        "  constant_labels.append(constant)\n",
        "\n",
        "data = np.array(data, dtype=\"float32\") / 255.0"
      ]
    },
    {
      "cell_type": "code",
      "execution_count": 145,
      "metadata": {
        "id": "oMyuGhRJK2ZP"
      },
      "outputs": [],
      "source": [
        "# Binarize labels\n",
        "lb = LabelBinarizer()\n",
        "quadratic_labels = lb.fit_transform(quadratic_labels)\n",
        "linear_labels = lb.fit_transform(linear_labels)\n",
        "constant_labels = lb.fit_transform(constant_labels)"
      ]
    },
    {
      "cell_type": "code",
      "execution_count": 146,
      "metadata": {
        "colab": {
          "base_uri": "https://localhost:8080/"
        },
        "id": "PUgw__U8K8Ds",
        "outputId": "be403914-020a-4a8f-b4f1-5598e006a3b0"
      },
      "outputs": [
        {
          "output_type": "stream",
          "name": "stdout",
          "text": [
            "[0 0 0 0 0 1 0 0 0 0]\n",
            "[0 0 0 0 0 0 0 0 0 1]\n",
            "[0 0 0 0 0 0 0 0 1 0]\n"
          ]
        }
      ],
      "source": [
        "# Split To Train and Test\n",
        "split = train_test_split(data, quadratic_labels, linear_labels, constant_labels, test_size=0.30)\n",
        "train_images, test_images, train_quadratic_y, test_quadratic_y, train_linear_y, test_linear_y, train_constant_y, test_constant_y = split\n",
        "\n",
        "# Split Test to Validation and Test\n",
        "val_test_split = train_test_split(test_images, test_quadratic_y, test_linear_y, test_constant_y, test_size=0.5)\n",
        "val_images, test_images, val_quadratic_y, test_quadratic_y, val_linear_y, test_linear_y, val_constant_y, test_constant_y = val_test_split\n",
        "\n",
        "print(train_quadratic_y[0])\n",
        "print(val_quadratic_y[0])\n",
        "print(test_quadratic_y[0])"
      ]
    },
    {
      "cell_type": "markdown",
      "source": [
        "# Model"
      ],
      "metadata": {
        "id": "E9rDiFlBsv45"
      }
    },
    {
      "cell_type": "code",
      "execution_count": 147,
      "metadata": {
        "id": "vBDkXcnppR08"
      },
      "outputs": [],
      "source": [
        "# Build Models\n",
        "def build_branch(inputs, numClasses, name):\n",
        "\t\n",
        "\t\t# Conv block 1\n",
        "\t\tx = tfl.Conv2D(16, (3, 3), padding=\"same\", activation='relu')(inputs)\n",
        "\t\tx = tfl.BatchNormalization()(x)\n",
        "\t\tx = tfl.MaxPooling2D(pool_size=(3, 3))(x)\n",
        "\t\tx = tfl.Dropout(0.25)(x)\n",
        "\t\n",
        "\t\t# Conv block 2\n",
        "\t\tx = tfl.Conv2D(32, (3, 3), padding=\"same\", activation='relu')(x)\n",
        "\t\tx = tfl.BatchNormalization()(x)\n",
        "\t\tx = tfl.MaxPooling2D(pool_size=(2, 2))(x)\n",
        "\t\tx = tfl.Dropout(0.25)(x)\n",
        "\t\n",
        "\t\t# Conv block 3\n",
        "\t\tx = tfl.Conv2D(32, (3, 3), padding=\"same\", activation='relu')(x)\n",
        "\t\tx = tfl.BatchNormalization()(x)\n",
        "\t\tx = tfl.MaxPooling2D(pool_size=(2, 2))(x)\n",
        "\t\tx = tfl.Dropout(0.25)(x)\n",
        "\n",
        "\t\t# FC\n",
        "\t\tx = tfl.Flatten()(x)\n",
        "\t\tx = tfl.Dense(128,activation='relu')(x)\n",
        "\t\tx = tfl.BatchNormalization()(x)\n",
        "\t\tx = tfl.Dropout(0.5)(x)\n",
        "\t\tx = tfl.Dense(numClasses, activation='softmax', name=name)(x)\n",
        "\n",
        "\t\treturn x\n",
        "\n",
        "inputs = tfl.Input(shape=(512, 512, 1))\n",
        "quadr = build_branch(inputs, 10, 'quadratic')\n",
        "linear = build_branch(inputs, 11, 'linear')\n",
        "constant = build_branch(inputs, 11, 'constant')\n",
        "\n",
        "model = Model(inputs = inputs, outputs=[quadr, linear, constant])"
      ]
    },
    {
      "cell_type": "code",
      "execution_count": 148,
      "metadata": {
        "id": "HXvJ3hIirvwh",
        "colab": {
          "base_uri": "https://localhost:8080/"
        },
        "outputId": "b2401d8f-d437-4a01-8ded-6834429cf563"
      },
      "outputs": [
        {
          "output_type": "stream",
          "name": "stdout",
          "text": [
            "Epoch 1/64\n",
            "22/22 [==============================] - 9s 256ms/step - loss: 8.7649 - quadratic_loss: 2.5725 - linear_loss: 2.9098 - constant_loss: 3.2826 - quadratic_accuracy: 0.2314 - linear_accuracy: 0.1771 - constant_accuracy: 0.1186 - val_loss: 7.6988 - val_quadratic_loss: 2.6746 - val_linear_loss: 2.4754 - val_constant_loss: 2.5489 - val_quadratic_accuracy: 0.1133 - val_linear_accuracy: 0.0533 - val_constant_accuracy: 0.1067\n",
            "Epoch 2/64\n",
            "22/22 [==============================] - 5s 223ms/step - loss: 5.9600 - quadratic_loss: 1.7062 - linear_loss: 2.0613 - constant_loss: 2.1925 - quadratic_accuracy: 0.4129 - linear_accuracy: 0.3529 - constant_accuracy: 0.2800 - val_loss: 8.5706 - val_quadratic_loss: 3.3439 - val_linear_loss: 2.5876 - val_constant_loss: 2.6390 - val_quadratic_accuracy: 0.1133 - val_linear_accuracy: 0.0933 - val_constant_accuracy: 0.1067\n",
            "Epoch 3/64\n",
            "22/22 [==============================] - 5s 222ms/step - loss: 4.8505 - quadratic_loss: 1.4039 - linear_loss: 1.5975 - constant_loss: 1.8492 - quadratic_accuracy: 0.5071 - linear_accuracy: 0.4471 - constant_accuracy: 0.3614 - val_loss: 9.0958 - val_quadratic_loss: 3.4800 - val_linear_loss: 2.7921 - val_constant_loss: 2.8238 - val_quadratic_accuracy: 0.1133 - val_linear_accuracy: 0.0867 - val_constant_accuracy: 0.1067\n",
            "Epoch 4/64\n",
            "22/22 [==============================] - 5s 223ms/step - loss: 3.7481 - quadratic_loss: 1.1332 - linear_loss: 1.1931 - constant_loss: 1.4219 - quadratic_accuracy: 0.6100 - linear_accuracy: 0.6100 - constant_accuracy: 0.5086 - val_loss: 10.2130 - val_quadratic_loss: 3.7861 - val_linear_loss: 3.4386 - val_constant_loss: 2.9883 - val_quadratic_accuracy: 0.1133 - val_linear_accuracy: 0.1933 - val_constant_accuracy: 0.0733\n",
            "Epoch 5/64\n",
            "22/22 [==============================] - 5s 223ms/step - loss: 2.7671 - quadratic_loss: 0.7969 - linear_loss: 0.8634 - constant_loss: 1.1069 - quadratic_accuracy: 0.7300 - linear_accuracy: 0.7243 - constant_accuracy: 0.6300 - val_loss: 11.3879 - val_quadratic_loss: 3.9410 - val_linear_loss: 3.6676 - val_constant_loss: 3.7793 - val_quadratic_accuracy: 0.1133 - val_linear_accuracy: 0.1933 - val_constant_accuracy: 0.1067\n",
            "Epoch 6/64\n",
            "22/22 [==============================] - 5s 223ms/step - loss: 1.8209 - quadratic_loss: 0.5591 - linear_loss: 0.5644 - constant_loss: 0.6974 - quadratic_accuracy: 0.8414 - linear_accuracy: 0.8243 - constant_accuracy: 0.7943 - val_loss: 12.5149 - val_quadratic_loss: 3.9758 - val_linear_loss: 3.8766 - val_constant_loss: 4.6625 - val_quadratic_accuracy: 0.1400 - val_linear_accuracy: 0.1933 - val_constant_accuracy: 0.1067\n",
            "Epoch 7/64\n",
            "22/22 [==============================] - 5s 223ms/step - loss: 1.2496 - quadratic_loss: 0.3995 - linear_loss: 0.3733 - constant_loss: 0.4768 - quadratic_accuracy: 0.8886 - linear_accuracy: 0.9057 - constant_accuracy: 0.8914 - val_loss: 15.4267 - val_quadratic_loss: 4.0330 - val_linear_loss: 3.4338 - val_constant_loss: 7.9600 - val_quadratic_accuracy: 0.1067 - val_linear_accuracy: 0.1267 - val_constant_accuracy: 0.1067\n",
            "Epoch 8/64\n",
            "22/22 [==============================] - 5s 223ms/step - loss: 0.8254 - quadratic_loss: 0.2439 - linear_loss: 0.2376 - constant_loss: 0.3439 - quadratic_accuracy: 0.9557 - linear_accuracy: 0.9557 - constant_accuracy: 0.9300 - val_loss: 12.4898 - val_quadratic_loss: 4.3501 - val_linear_loss: 3.5370 - val_constant_loss: 4.6028 - val_quadratic_accuracy: 0.1067 - val_linear_accuracy: 0.0667 - val_constant_accuracy: 0.1000\n",
            "Epoch 9/64\n",
            "22/22 [==============================] - 5s 223ms/step - loss: 0.6854 - quadratic_loss: 0.1806 - linear_loss: 0.2625 - constant_loss: 0.2423 - quadratic_accuracy: 0.9700 - linear_accuracy: 0.9343 - constant_accuracy: 0.9557 - val_loss: 15.1964 - val_quadratic_loss: 5.1673 - val_linear_loss: 4.8172 - val_constant_loss: 5.2119 - val_quadratic_accuracy: 0.1000 - val_linear_accuracy: 0.0800 - val_constant_accuracy: 0.1133\n",
            "Epoch 10/64\n",
            "22/22 [==============================] - 5s 223ms/step - loss: 0.4481 - quadratic_loss: 0.1421 - linear_loss: 0.1535 - constant_loss: 0.1526 - quadratic_accuracy: 0.9829 - linear_accuracy: 0.9814 - constant_accuracy: 0.9771 - val_loss: 22.3727 - val_quadratic_loss: 8.7444 - val_linear_loss: 8.0886 - val_constant_loss: 5.5397 - val_quadratic_accuracy: 0.0933 - val_linear_accuracy: 0.0867 - val_constant_accuracy: 0.1067\n",
            "Epoch 11/64\n",
            "22/22 [==============================] - 5s 224ms/step - loss: 0.3626 - quadratic_loss: 0.1073 - linear_loss: 0.1219 - constant_loss: 0.1334 - quadratic_accuracy: 0.9871 - linear_accuracy: 0.9871 - constant_accuracy: 0.9857 - val_loss: 29.1790 - val_quadratic_loss: 9.6707 - val_linear_loss: 12.9035 - val_constant_loss: 6.6048 - val_quadratic_accuracy: 0.0867 - val_linear_accuracy: 0.0800 - val_constant_accuracy: 0.1467\n",
            "Epoch 12/64\n",
            "22/22 [==============================] - 5s 223ms/step - loss: 0.3124 - quadratic_loss: 0.1056 - linear_loss: 0.0976 - constant_loss: 0.1092 - quadratic_accuracy: 0.9857 - linear_accuracy: 0.9886 - constant_accuracy: 0.9843 - val_loss: 36.8876 - val_quadratic_loss: 13.4527 - val_linear_loss: 15.8778 - val_constant_loss: 7.5572 - val_quadratic_accuracy: 0.0867 - val_linear_accuracy: 0.0800 - val_constant_accuracy: 0.1067\n",
            "Epoch 13/64\n",
            "22/22 [==============================] - 5s 222ms/step - loss: 0.2295 - quadratic_loss: 0.0726 - linear_loss: 0.0760 - constant_loss: 0.0809 - quadratic_accuracy: 0.9957 - linear_accuracy: 0.9914 - constant_accuracy: 0.9943 - val_loss: 38.1654 - val_quadratic_loss: 10.3877 - val_linear_loss: 18.0936 - val_constant_loss: 9.6841 - val_quadratic_accuracy: 0.1067 - val_linear_accuracy: 0.0867 - val_constant_accuracy: 0.1200\n",
            "Epoch 14/64\n",
            "22/22 [==============================] - 5s 223ms/step - loss: 0.1925 - quadratic_loss: 0.0575 - linear_loss: 0.0652 - constant_loss: 0.0698 - quadratic_accuracy: 0.9957 - linear_accuracy: 0.9986 - constant_accuracy: 0.9971 - val_loss: 49.3721 - val_quadratic_loss: 14.1486 - val_linear_loss: 24.1112 - val_constant_loss: 11.1123 - val_quadratic_accuracy: 0.0933 - val_linear_accuracy: 0.0933 - val_constant_accuracy: 0.1333\n",
            "Epoch 15/64\n",
            "22/22 [==============================] - 5s 223ms/step - loss: 0.1659 - quadratic_loss: 0.0567 - linear_loss: 0.0560 - constant_loss: 0.0532 - quadratic_accuracy: 0.9943 - linear_accuracy: 0.9943 - constant_accuracy: 0.9957 - val_loss: 64.8840 - val_quadratic_loss: 20.1490 - val_linear_loss: 29.7723 - val_constant_loss: 14.9628 - val_quadratic_accuracy: 0.1000 - val_linear_accuracy: 0.1067 - val_constant_accuracy: 0.1000\n",
            "Epoch 16/64\n",
            "22/22 [==============================] - 5s 223ms/step - loss: 0.1584 - quadratic_loss: 0.0445 - linear_loss: 0.0541 - constant_loss: 0.0598 - quadratic_accuracy: 0.9971 - linear_accuracy: 0.9943 - constant_accuracy: 0.9957 - val_loss: 97.4252 - val_quadratic_loss: 36.0700 - val_linear_loss: 42.2486 - val_constant_loss: 19.1066 - val_quadratic_accuracy: 0.1067 - val_linear_accuracy: 0.1133 - val_constant_accuracy: 0.1000\n",
            "Epoch 17/64\n",
            "22/22 [==============================] - 5s 224ms/step - loss: 0.1328 - quadratic_loss: 0.0335 - linear_loss: 0.0474 - constant_loss: 0.0519 - quadratic_accuracy: 1.0000 - linear_accuracy: 0.9986 - constant_accuracy: 0.9943 - val_loss: 89.6741 - val_quadratic_loss: 32.0095 - val_linear_loss: 40.5901 - val_constant_loss: 17.0745 - val_quadratic_accuracy: 0.1000 - val_linear_accuracy: 0.1133 - val_constant_accuracy: 0.1000\n",
            "Epoch 18/64\n",
            "22/22 [==============================] - 5s 223ms/step - loss: 0.1177 - quadratic_loss: 0.0326 - linear_loss: 0.0429 - constant_loss: 0.0422 - quadratic_accuracy: 1.0000 - linear_accuracy: 0.9943 - constant_accuracy: 0.9971 - val_loss: 98.3620 - val_quadratic_loss: 37.1812 - val_linear_loss: 44.6417 - val_constant_loss: 16.5391 - val_quadratic_accuracy: 0.1000 - val_linear_accuracy: 0.0933 - val_constant_accuracy: 0.0933\n",
            "Epoch 19/64\n",
            "22/22 [==============================] - 5s 223ms/step - loss: 0.1145 - quadratic_loss: 0.0432 - linear_loss: 0.0340 - constant_loss: 0.0373 - quadratic_accuracy: 0.9971 - linear_accuracy: 0.9971 - constant_accuracy: 0.9986 - val_loss: 180.6090 - val_quadratic_loss: 122.9427 - val_linear_loss: 36.1609 - val_constant_loss: 21.5055 - val_quadratic_accuracy: 0.1000 - val_linear_accuracy: 0.1067 - val_constant_accuracy: 0.1000\n",
            "Epoch 20/64\n",
            "22/22 [==============================] - 5s 224ms/step - loss: 0.1002 - quadratic_loss: 0.0398 - linear_loss: 0.0326 - constant_loss: 0.0278 - quadratic_accuracy: 0.9957 - linear_accuracy: 0.9986 - constant_accuracy: 1.0000 - val_loss: 54.7360 - val_quadratic_loss: 4.1134 - val_linear_loss: 29.2808 - val_constant_loss: 21.3419 - val_quadratic_accuracy: 0.2333 - val_linear_accuracy: 0.1200 - val_constant_accuracy: 0.1000\n",
            "Epoch 21/64\n",
            "22/22 [==============================] - 5s 223ms/step - loss: 0.0763 - quadratic_loss: 0.0244 - linear_loss: 0.0237 - constant_loss: 0.0282 - quadratic_accuracy: 0.9986 - linear_accuracy: 1.0000 - constant_accuracy: 0.9971 - val_loss: 52.6724 - val_quadratic_loss: 4.4247 - val_linear_loss: 25.4373 - val_constant_loss: 22.8104 - val_quadratic_accuracy: 0.1867 - val_linear_accuracy: 0.1467 - val_constant_accuracy: 0.1000\n",
            "Epoch 22/64\n",
            "22/22 [==============================] - 5s 222ms/step - loss: 0.0669 - quadratic_loss: 0.0275 - linear_loss: 0.0213 - constant_loss: 0.0181 - quadratic_accuracy: 0.9943 - linear_accuracy: 0.9986 - constant_accuracy: 1.0000 - val_loss: 47.5688 - val_quadratic_loss: 4.9213 - val_linear_loss: 28.3587 - val_constant_loss: 14.2888 - val_quadratic_accuracy: 0.1867 - val_linear_accuracy: 0.1467 - val_constant_accuracy: 0.1133\n",
            "Epoch 23/64\n",
            "22/22 [==============================] - 5s 223ms/step - loss: 0.0735 - quadratic_loss: 0.0263 - linear_loss: 0.0256 - constant_loss: 0.0217 - quadratic_accuracy: 1.0000 - linear_accuracy: 0.9986 - constant_accuracy: 1.0000 - val_loss: 74.3081 - val_quadratic_loss: 5.4726 - val_linear_loss: 58.3933 - val_constant_loss: 10.4421 - val_quadratic_accuracy: 0.1267 - val_linear_accuracy: 0.0933 - val_constant_accuracy: 0.1067\n",
            "Epoch 24/64\n",
            "22/22 [==============================] - 5s 223ms/step - loss: 0.0571 - quadratic_loss: 0.0175 - linear_loss: 0.0200 - constant_loss: 0.0196 - quadratic_accuracy: 1.0000 - linear_accuracy: 1.0000 - constant_accuracy: 1.0000 - val_loss: 51.1535 - val_quadratic_loss: 7.4610 - val_linear_loss: 35.7772 - val_constant_loss: 7.9153 - val_quadratic_accuracy: 0.1200 - val_linear_accuracy: 0.1000 - val_constant_accuracy: 0.1133\n",
            "Epoch 25/64\n",
            "22/22 [==============================] - 5s 223ms/step - loss: 0.0538 - quadratic_loss: 0.0167 - linear_loss: 0.0188 - constant_loss: 0.0183 - quadratic_accuracy: 1.0000 - linear_accuracy: 0.9986 - constant_accuracy: 1.0000 - val_loss: 46.6000 - val_quadratic_loss: 5.0354 - val_linear_loss: 28.3223 - val_constant_loss: 13.2423 - val_quadratic_accuracy: 0.1667 - val_linear_accuracy: 0.1267 - val_constant_accuracy: 0.1067\n",
            "Epoch 26/64\n",
            "22/22 [==============================] - 5s 223ms/step - loss: 0.0582 - quadratic_loss: 0.0168 - linear_loss: 0.0193 - constant_loss: 0.0221 - quadratic_accuracy: 1.0000 - linear_accuracy: 1.0000 - constant_accuracy: 0.9957 - val_loss: 9.0698 - val_quadratic_loss: 4.1738 - val_linear_loss: 2.2889 - val_constant_loss: 2.6071 - val_quadratic_accuracy: 0.1933 - val_linear_accuracy: 0.2733 - val_constant_accuracy: 0.1933\n",
            "Epoch 27/64\n",
            "22/22 [==============================] - 5s 223ms/step - loss: 0.0524 - quadratic_loss: 0.0155 - linear_loss: 0.0205 - constant_loss: 0.0165 - quadratic_accuracy: 1.0000 - linear_accuracy: 0.9971 - constant_accuracy: 1.0000 - val_loss: 10.4436 - val_quadratic_loss: 5.3882 - val_linear_loss: 2.2469 - val_constant_loss: 2.8085 - val_quadratic_accuracy: 0.2133 - val_linear_accuracy: 0.2867 - val_constant_accuracy: 0.2067\n",
            "Epoch 28/64\n",
            "22/22 [==============================] - 5s 224ms/step - loss: 0.0448 - quadratic_loss: 0.0139 - linear_loss: 0.0129 - constant_loss: 0.0180 - quadratic_accuracy: 0.9986 - linear_accuracy: 1.0000 - constant_accuracy: 0.9986 - val_loss: 18.1946 - val_quadratic_loss: 3.3975 - val_linear_loss: 12.0729 - val_constant_loss: 2.7242 - val_quadratic_accuracy: 0.2733 - val_linear_accuracy: 0.1333 - val_constant_accuracy: 0.2333\n",
            "Epoch 29/64\n",
            "22/22 [==============================] - 5s 222ms/step - loss: 0.0503 - quadratic_loss: 0.0133 - linear_loss: 0.0181 - constant_loss: 0.0189 - quadratic_accuracy: 1.0000 - linear_accuracy: 1.0000 - constant_accuracy: 1.0000 - val_loss: 12.3105 - val_quadratic_loss: 3.6348 - val_linear_loss: 5.5256 - val_constant_loss: 3.1502 - val_quadratic_accuracy: 0.2667 - val_linear_accuracy: 0.1067 - val_constant_accuracy: 0.2267\n",
            "Epoch 30/64\n",
            "22/22 [==============================] - 5s 223ms/step - loss: 0.0438 - quadratic_loss: 0.0114 - linear_loss: 0.0159 - constant_loss: 0.0165 - quadratic_accuracy: 1.0000 - linear_accuracy: 1.0000 - constant_accuracy: 1.0000 - val_loss: 28.7449 - val_quadratic_loss: 2.9459 - val_linear_loss: 22.0139 - val_constant_loss: 3.7851 - val_quadratic_accuracy: 0.2933 - val_linear_accuracy: 0.1667 - val_constant_accuracy: 0.1467\n",
            "Epoch 31/64\n",
            "22/22 [==============================] - 5s 223ms/step - loss: 0.0404 - quadratic_loss: 0.0121 - linear_loss: 0.0128 - constant_loss: 0.0154 - quadratic_accuracy: 0.9986 - linear_accuracy: 1.0000 - constant_accuracy: 1.0000 - val_loss: 52.9054 - val_quadratic_loss: 2.8792 - val_linear_loss: 47.2604 - val_constant_loss: 2.7658 - val_quadratic_accuracy: 0.3067 - val_linear_accuracy: 0.1267 - val_constant_accuracy: 0.2067\n",
            "Epoch 32/64\n",
            "22/22 [==============================] - 5s 223ms/step - loss: 0.0403 - quadratic_loss: 0.0119 - linear_loss: 0.0121 - constant_loss: 0.0163 - quadratic_accuracy: 0.9986 - linear_accuracy: 0.9986 - constant_accuracy: 0.9986 - val_loss: 39.7856 - val_quadratic_loss: 2.9661 - val_linear_loss: 32.7773 - val_constant_loss: 4.0421 - val_quadratic_accuracy: 0.2800 - val_linear_accuracy: 0.1800 - val_constant_accuracy: 0.1533\n",
            "Epoch 33/64\n",
            "22/22 [==============================] - 5s 223ms/step - loss: 0.0392 - quadratic_loss: 0.0097 - linear_loss: 0.0097 - constant_loss: 0.0199 - quadratic_accuracy: 0.9986 - linear_accuracy: 1.0000 - constant_accuracy: 0.9971 - val_loss: 21.0802 - val_quadratic_loss: 2.3228 - val_linear_loss: 15.0240 - val_constant_loss: 3.7334 - val_quadratic_accuracy: 0.3867 - val_linear_accuracy: 0.1333 - val_constant_accuracy: 0.1867\n",
            "Epoch 34/64\n",
            "22/22 [==============================] - 5s 223ms/step - loss: 0.0336 - quadratic_loss: 0.0101 - linear_loss: 0.0118 - constant_loss: 0.0116 - quadratic_accuracy: 1.0000 - linear_accuracy: 1.0000 - constant_accuracy: 1.0000 - val_loss: 30.4347 - val_quadratic_loss: 1.8825 - val_linear_loss: 25.3089 - val_constant_loss: 3.2433 - val_quadratic_accuracy: 0.4133 - val_linear_accuracy: 0.1467 - val_constant_accuracy: 0.2267\n",
            "Epoch 35/64\n",
            "22/22 [==============================] - 5s 223ms/step - loss: 0.0376 - quadratic_loss: 0.0106 - linear_loss: 0.0131 - constant_loss: 0.0139 - quadratic_accuracy: 1.0000 - linear_accuracy: 1.0000 - constant_accuracy: 0.9986 - val_loss: 35.0952 - val_quadratic_loss: 2.3288 - val_linear_loss: 29.3248 - val_constant_loss: 3.4416 - val_quadratic_accuracy: 0.3800 - val_linear_accuracy: 0.1467 - val_constant_accuracy: 0.1800\n",
            "Epoch 36/64\n",
            "22/22 [==============================] - 5s 223ms/step - loss: 0.0332 - quadratic_loss: 0.0111 - linear_loss: 0.0112 - constant_loss: 0.0109 - quadratic_accuracy: 0.9986 - linear_accuracy: 1.0000 - constant_accuracy: 1.0000 - val_loss: 488.5534 - val_quadratic_loss: 458.5015 - val_linear_loss: 24.9976 - val_constant_loss: 5.0543 - val_quadratic_accuracy: 0.1000 - val_linear_accuracy: 0.1133 - val_constant_accuracy: 0.1533\n",
            "Epoch 37/64\n",
            "22/22 [==============================] - 5s 223ms/step - loss: 0.0306 - quadratic_loss: 0.0085 - linear_loss: 0.0109 - constant_loss: 0.0113 - quadratic_accuracy: 1.0000 - linear_accuracy: 1.0000 - constant_accuracy: 1.0000 - val_loss: 277.3456 - val_quadratic_loss: 241.8440 - val_linear_loss: 31.7171 - val_constant_loss: 3.7844 - val_quadratic_accuracy: 0.1000 - val_linear_accuracy: 0.1267 - val_constant_accuracy: 0.1600\n",
            "Epoch 38/64\n",
            "22/22 [==============================] - 5s 223ms/step - loss: 0.0297 - quadratic_loss: 0.0110 - linear_loss: 0.0083 - constant_loss: 0.0105 - quadratic_accuracy: 1.0000 - linear_accuracy: 1.0000 - constant_accuracy: 1.0000 - val_loss: 44.2073 - val_quadratic_loss: 32.1555 - val_linear_loss: 9.4253 - val_constant_loss: 2.6265 - val_quadratic_accuracy: 0.1200 - val_linear_accuracy: 0.1000 - val_constant_accuracy: 0.2133\n",
            "Epoch 39/64\n",
            "22/22 [==============================] - 5s 222ms/step - loss: 0.0307 - quadratic_loss: 0.0075 - linear_loss: 0.0106 - constant_loss: 0.0126 - quadratic_accuracy: 1.0000 - linear_accuracy: 1.0000 - constant_accuracy: 0.9986 - val_loss: 65.7888 - val_quadratic_loss: 58.2733 - val_linear_loss: 4.2256 - val_constant_loss: 3.2899 - val_quadratic_accuracy: 0.1067 - val_linear_accuracy: 0.2000 - val_constant_accuracy: 0.1867\n",
            "Epoch 40/64\n",
            "22/22 [==============================] - 5s 223ms/step - loss: 0.0247 - quadratic_loss: 0.0066 - linear_loss: 0.0078 - constant_loss: 0.0103 - quadratic_accuracy: 1.0000 - linear_accuracy: 1.0000 - constant_accuracy: 1.0000 - val_loss: 40.3070 - val_quadratic_loss: 10.5564 - val_linear_loss: 2.6815 - val_constant_loss: 27.0691 - val_quadratic_accuracy: 0.2533 - val_linear_accuracy: 0.2600 - val_constant_accuracy: 0.0933\n",
            "Epoch 41/64\n",
            "22/22 [==============================] - 5s 223ms/step - loss: 0.0222 - quadratic_loss: 0.0057 - linear_loss: 0.0068 - constant_loss: 0.0097 - quadratic_accuracy: 1.0000 - linear_accuracy: 1.0000 - constant_accuracy: 1.0000 - val_loss: 109.2023 - val_quadratic_loss: 14.5375 - val_linear_loss: 3.1721 - val_constant_loss: 91.4927 - val_quadratic_accuracy: 0.2200 - val_linear_accuracy: 0.1800 - val_constant_accuracy: 0.1067\n",
            "Epoch 42/64\n",
            "22/22 [==============================] - 5s 223ms/step - loss: 0.0239 - quadratic_loss: 0.0098 - linear_loss: 0.0059 - constant_loss: 0.0081 - quadratic_accuracy: 1.0000 - linear_accuracy: 1.0000 - constant_accuracy: 1.0000 - val_loss: 103.5739 - val_quadratic_loss: 41.6542 - val_linear_loss: 3.5304 - val_constant_loss: 58.3893 - val_quadratic_accuracy: 0.1000 - val_linear_accuracy: 0.1600 - val_constant_accuracy: 0.1267\n",
            "Epoch 43/64\n",
            "22/22 [==============================] - 5s 223ms/step - loss: 0.0248 - quadratic_loss: 0.0090 - linear_loss: 0.0072 - constant_loss: 0.0087 - quadratic_accuracy: 1.0000 - linear_accuracy: 1.0000 - constant_accuracy: 1.0000 - val_loss: 8.7652 - val_quadratic_loss: 2.0989 - val_linear_loss: 2.7180 - val_constant_loss: 3.9483 - val_quadratic_accuracy: 0.4800 - val_linear_accuracy: 0.2200 - val_constant_accuracy: 0.1533\n",
            "Epoch 44/64\n",
            "22/22 [==============================] - 5s 223ms/step - loss: 0.0242 - quadratic_loss: 0.0071 - linear_loss: 0.0085 - constant_loss: 0.0086 - quadratic_accuracy: 1.0000 - linear_accuracy: 1.0000 - constant_accuracy: 1.0000 - val_loss: 10.0908 - val_quadratic_loss: 1.6299 - val_linear_loss: 4.8911 - val_constant_loss: 3.5698 - val_quadratic_accuracy: 0.5667 - val_linear_accuracy: 0.1467 - val_constant_accuracy: 0.1667\n",
            "Epoch 45/64\n",
            "22/22 [==============================] - 5s 222ms/step - loss: 0.0189 - quadratic_loss: 0.0050 - linear_loss: 0.0063 - constant_loss: 0.0076 - quadratic_accuracy: 1.0000 - linear_accuracy: 1.0000 - constant_accuracy: 1.0000 - val_loss: 54.2972 - val_quadratic_loss: 3.1039 - val_linear_loss: 47.8562 - val_constant_loss: 3.3370 - val_quadratic_accuracy: 0.4333 - val_linear_accuracy: 0.1467 - val_constant_accuracy: 0.1667\n",
            "Epoch 46/64\n",
            "22/22 [==============================] - 5s 222ms/step - loss: 0.0253 - quadratic_loss: 0.0080 - linear_loss: 0.0072 - constant_loss: 0.0101 - quadratic_accuracy: 0.9986 - linear_accuracy: 1.0000 - constant_accuracy: 0.9986 - val_loss: 82.7346 - val_quadratic_loss: 5.0796 - val_linear_loss: 74.9643 - val_constant_loss: 2.6907 - val_quadratic_accuracy: 0.3333 - val_linear_accuracy: 0.1400 - val_constant_accuracy: 0.2133\n",
            "Epoch 47/64\n",
            "22/22 [==============================] - 5s 224ms/step - loss: 0.0236 - quadratic_loss: 0.0078 - linear_loss: 0.0076 - constant_loss: 0.0082 - quadratic_accuracy: 1.0000 - linear_accuracy: 1.0000 - constant_accuracy: 1.0000 - val_loss: 199.0464 - val_quadratic_loss: 132.4175 - val_linear_loss: 63.9793 - val_constant_loss: 2.6496 - val_quadratic_accuracy: 0.1800 - val_linear_accuracy: 0.1200 - val_constant_accuracy: 0.2600\n",
            "Epoch 48/64\n",
            "22/22 [==============================] - 5s 222ms/step - loss: 0.0209 - quadratic_loss: 0.0068 - linear_loss: 0.0075 - constant_loss: 0.0066 - quadratic_accuracy: 1.0000 - linear_accuracy: 1.0000 - constant_accuracy: 1.0000 - val_loss: 48.7378 - val_quadratic_loss: 13.6167 - val_linear_loss: 32.5397 - val_constant_loss: 2.5813 - val_quadratic_accuracy: 0.2333 - val_linear_accuracy: 0.1133 - val_constant_accuracy: 0.2667\n",
            "Epoch 49/64\n",
            "22/22 [==============================] - 5s 222ms/step - loss: 0.0211 - quadratic_loss: 0.0055 - linear_loss: 0.0092 - constant_loss: 0.0064 - quadratic_accuracy: 1.0000 - linear_accuracy: 0.9986 - constant_accuracy: 1.0000 - val_loss: 38.3606 - val_quadratic_loss: 14.6035 - val_linear_loss: 20.5003 - val_constant_loss: 3.2568 - val_quadratic_accuracy: 0.2533 - val_linear_accuracy: 0.0933 - val_constant_accuracy: 0.1800\n",
            "Epoch 50/64\n",
            "22/22 [==============================] - 5s 223ms/step - loss: 0.0246 - quadratic_loss: 0.0084 - linear_loss: 0.0089 - constant_loss: 0.0073 - quadratic_accuracy: 0.9971 - linear_accuracy: 1.0000 - constant_accuracy: 0.9986 - val_loss: 220.0865 - val_quadratic_loss: 214.2645 - val_linear_loss: 3.4781 - val_constant_loss: 2.3439 - val_quadratic_accuracy: 0.1533 - val_linear_accuracy: 0.2400 - val_constant_accuracy: 0.3200\n",
            "Epoch 51/64\n",
            "22/22 [==============================] - 5s 223ms/step - loss: 0.0170 - quadratic_loss: 0.0062 - linear_loss: 0.0057 - constant_loss: 0.0051 - quadratic_accuracy: 1.0000 - linear_accuracy: 1.0000 - constant_accuracy: 1.0000 - val_loss: 21.8296 - val_quadratic_loss: 9.3190 - val_linear_loss: 10.1820 - val_constant_loss: 2.3286 - val_quadratic_accuracy: 0.3133 - val_linear_accuracy: 0.1267 - val_constant_accuracy: 0.3467\n",
            "Epoch 52/64\n",
            "22/22 [==============================] - 5s 223ms/step - loss: 0.0199 - quadratic_loss: 0.0054 - linear_loss: 0.0062 - constant_loss: 0.0083 - quadratic_accuracy: 1.0000 - linear_accuracy: 1.0000 - constant_accuracy: 1.0000 - val_loss: 11.5448 - val_quadratic_loss: 2.3395 - val_linear_loss: 6.7216 - val_constant_loss: 2.4837 - val_quadratic_accuracy: 0.4533 - val_linear_accuracy: 0.1800 - val_constant_accuracy: 0.3133\n",
            "Epoch 53/64\n",
            "22/22 [==============================] - 5s 222ms/step - loss: 0.0169 - quadratic_loss: 0.0055 - linear_loss: 0.0069 - constant_loss: 0.0046 - quadratic_accuracy: 1.0000 - linear_accuracy: 1.0000 - constant_accuracy: 1.0000 - val_loss: 14.7570 - val_quadratic_loss: 4.4161 - val_linear_loss: 7.7164 - val_constant_loss: 2.6245 - val_quadratic_accuracy: 0.3733 - val_linear_accuracy: 0.1467 - val_constant_accuracy: 0.3000\n",
            "Epoch 54/64\n",
            "22/22 [==============================] - 5s 223ms/step - loss: 0.0158 - quadratic_loss: 0.0045 - linear_loss: 0.0047 - constant_loss: 0.0066 - quadratic_accuracy: 1.0000 - linear_accuracy: 1.0000 - constant_accuracy: 1.0000 - val_loss: 22.5427 - val_quadratic_loss: 3.5425 - val_linear_loss: 16.2016 - val_constant_loss: 2.7986 - val_quadratic_accuracy: 0.4000 - val_linear_accuracy: 0.1133 - val_constant_accuracy: 0.2600\n",
            "Epoch 55/64\n",
            "22/22 [==============================] - 5s 222ms/step - loss: 0.0170 - quadratic_loss: 0.0049 - linear_loss: 0.0055 - constant_loss: 0.0067 - quadratic_accuracy: 1.0000 - linear_accuracy: 1.0000 - constant_accuracy: 0.9986 - val_loss: 36.2361 - val_quadratic_loss: 3.8229 - val_linear_loss: 29.2285 - val_constant_loss: 3.1848 - val_quadratic_accuracy: 0.4667 - val_linear_accuracy: 0.1267 - val_constant_accuracy: 0.1800\n",
            "Epoch 56/64\n",
            "22/22 [==============================] - 5s 223ms/step - loss: 0.0167 - quadratic_loss: 0.0042 - linear_loss: 0.0067 - constant_loss: 0.0058 - quadratic_accuracy: 1.0000 - linear_accuracy: 1.0000 - constant_accuracy: 0.9986 - val_loss: 10.5488 - val_quadratic_loss: 1.8753 - val_linear_loss: 4.9176 - val_constant_loss: 3.7559 - val_quadratic_accuracy: 0.5267 - val_linear_accuracy: 0.2400 - val_constant_accuracy: 0.1733\n",
            "Epoch 57/64\n",
            "22/22 [==============================] - 5s 224ms/step - loss: 0.0167 - quadratic_loss: 0.0058 - linear_loss: 0.0057 - constant_loss: 0.0051 - quadratic_accuracy: 1.0000 - linear_accuracy: 1.0000 - constant_accuracy: 1.0000 - val_loss: 20.1676 - val_quadratic_loss: 1.2373 - val_linear_loss: 4.0037 - val_constant_loss: 14.9266 - val_quadratic_accuracy: 0.6200 - val_linear_accuracy: 0.2400 - val_constant_accuracy: 0.1667\n",
            "Epoch 58/64\n",
            "22/22 [==============================] - 5s 221ms/step - loss: 0.0131 - quadratic_loss: 0.0032 - linear_loss: 0.0059 - constant_loss: 0.0040 - quadratic_accuracy: 1.0000 - linear_accuracy: 0.9986 - constant_accuracy: 1.0000 - val_loss: 9.5446 - val_quadratic_loss: 1.1933 - val_linear_loss: 4.0597 - val_constant_loss: 4.2917 - val_quadratic_accuracy: 0.6067 - val_linear_accuracy: 0.2533 - val_constant_accuracy: 0.1400\n",
            "Epoch 59/64\n",
            "22/22 [==============================] - 5s 223ms/step - loss: 0.0162 - quadratic_loss: 0.0041 - linear_loss: 0.0060 - constant_loss: 0.0061 - quadratic_accuracy: 1.0000 - linear_accuracy: 1.0000 - constant_accuracy: 1.0000 - val_loss: 8.9295 - val_quadratic_loss: 1.3229 - val_linear_loss: 3.0967 - val_constant_loss: 4.5100 - val_quadratic_accuracy: 0.6067 - val_linear_accuracy: 0.2867 - val_constant_accuracy: 0.1867\n",
            "Epoch 60/64\n",
            "22/22 [==============================] - 5s 223ms/step - loss: 0.0134 - quadratic_loss: 0.0038 - linear_loss: 0.0052 - constant_loss: 0.0044 - quadratic_accuracy: 1.0000 - linear_accuracy: 1.0000 - constant_accuracy: 1.0000 - val_loss: 8.5617 - val_quadratic_loss: 1.2175 - val_linear_loss: 1.8450 - val_constant_loss: 5.4992 - val_quadratic_accuracy: 0.6133 - val_linear_accuracy: 0.4067 - val_constant_accuracy: 0.1533\n",
            "Epoch 61/64\n",
            "22/22 [==============================] - 5s 223ms/step - loss: 0.0118 - quadratic_loss: 0.0034 - linear_loss: 0.0040 - constant_loss: 0.0043 - quadratic_accuracy: 1.0000 - linear_accuracy: 1.0000 - constant_accuracy: 1.0000 - val_loss: 9.9597 - val_quadratic_loss: 1.1835 - val_linear_loss: 5.5500 - val_constant_loss: 3.2262 - val_quadratic_accuracy: 0.6333 - val_linear_accuracy: 0.2667 - val_constant_accuracy: 0.1867\n",
            "Epoch 62/64\n",
            "22/22 [==============================] - 5s 223ms/step - loss: 0.0117 - quadratic_loss: 0.0029 - linear_loss: 0.0045 - constant_loss: 0.0044 - quadratic_accuracy: 1.0000 - linear_accuracy: 1.0000 - constant_accuracy: 1.0000 - val_loss: 5.7084 - val_quadratic_loss: 1.1711 - val_linear_loss: 1.8151 - val_constant_loss: 2.7222 - val_quadratic_accuracy: 0.6267 - val_linear_accuracy: 0.4333 - val_constant_accuracy: 0.2667\n",
            "Epoch 63/64\n",
            "22/22 [==============================] - 5s 223ms/step - loss: 0.0141 - quadratic_loss: 0.0035 - linear_loss: 0.0050 - constant_loss: 0.0057 - quadratic_accuracy: 1.0000 - linear_accuracy: 1.0000 - constant_accuracy: 1.0000 - val_loss: 5.6487 - val_quadratic_loss: 1.3745 - val_linear_loss: 1.7246 - val_constant_loss: 2.5497 - val_quadratic_accuracy: 0.6067 - val_linear_accuracy: 0.4400 - val_constant_accuracy: 0.2933\n",
            "Epoch 64/64\n",
            "22/22 [==============================] - 5s 223ms/step - loss: 0.0102 - quadratic_loss: 0.0033 - linear_loss: 0.0037 - constant_loss: 0.0032 - quadratic_accuracy: 1.0000 - linear_accuracy: 1.0000 - constant_accuracy: 1.0000 - val_loss: 6.9263 - val_quadratic_loss: 2.4141 - val_linear_loss: 1.8512 - val_constant_loss: 2.6610 - val_quadratic_accuracy: 0.4867 - val_linear_accuracy: 0.4400 - val_constant_accuracy: 0.3000\n"
          ]
        }
      ],
      "source": [
        "# Compile and train Model\n",
        "NUM_EPOCHS = 64\n",
        "LEARNING_RATE = 1e-3\n",
        "BATCH_SIZE = 32\n",
        "\n",
        "opt = keras.optimizers.Adam(learning_rate=LEARNING_RATE)\n",
        "\n",
        "loss_weights = {\"quadratic\": 1.0, \"linear\": 1.0, 'constant': 1.0}\n",
        "\n",
        "losses = {\n",
        "\t\"quadratic\": \"categorical_crossentropy\",\n",
        "\t\"linear\": \"categorical_crossentropy\",\n",
        "  'constant': \"categorical_crossentropy\"\n",
        "}\n",
        "\n",
        "model.compile(loss=losses, optimizer=opt, metrics=['accuracy'], loss_weights=loss_weights)\n",
        "\n",
        "H = model.fit(x=train_images,\n",
        "              y={'quadratic': train_quadratic_y, 'linear': train_linear_y, 'constant': train_constant_y},\n",
        "              validation_data=(val_images, {'quadratic': val_quadratic_y, 'linear': val_linear_y, 'constant': val_constant_y}),\n",
        "              epochs=NUM_EPOCHS,\n",
        "              batch_size=BATCH_SIZE)\n"
      ]
    },
    {
      "cell_type": "markdown",
      "source": [
        "# Plotting the results"
      ],
      "metadata": {
        "id": "G9WX-2D0s1SW"
      }
    },
    {
      "cell_type": "code",
      "execution_count": 149,
      "metadata": {
        "colab": {
          "base_uri": "https://localhost:8080/",
          "height": 312
        },
        "id": "dR28JdiG6bWA",
        "outputId": "9644cd86-08d8-4d4a-aee7-47bc3eb11861"
      },
      "outputs": [
        {
          "output_type": "execute_result",
          "data": {
            "text/plain": [
              "<matplotlib.legend.Legend at 0x7f46e6b9a050>"
            ]
          },
          "metadata": {},
          "execution_count": 149
        },
        {
          "output_type": "display_data",
          "data": {
            "image/png": "[encoded data removed]",
            "text/plain": [
              "<Figure size 432x288 with 1 Axes>"
            ]
          },
          "metadata": {
            "needs_background": "light"
          }
        }
      ],
      "source": [
        "# Plot accuracy for train/val\n",
        "mean_train_accuracy = (np.asarray(H.history['quadratic_accuracy']) + \\\n",
        "                       np.asarray(H.history['linear_accuracy']) + \\\n",
        "                       np.asarray(H.history['constant_accuracy'])) / 3\n",
        "mean_val_accuracy = (np.asarray(H.history['val_quadratic_accuracy']) + \\\n",
        "                     np.asarray(H.history['val_linear_accuracy']) + \\\n",
        "                     np.asarray(H.history['val_constant_accuracy'])) / 3\n",
        "\n",
        "plt.figure()\n",
        "plt.plot(np.arange(0, NUM_EPOCHS), mean_train_accuracy, label=\"mean_train_accuracy\")\n",
        "plt.plot(np.arange(0, NUM_EPOCHS), mean_val_accuracy, label=\"mean_val_accuracy\")\n",
        "plt.title(\"Quadratic equation Regression Accuracy on Train Set\")\n",
        "plt.xlabel(\"Epoch #\")\n",
        "plt.ylabel(\"Loss\")\n",
        "plt.legend(loc=\"upper left\")"
      ]
    },
    {
      "cell_type": "code",
      "source": [
        "# Count number of errors for test set\n",
        "(quadr, linear, constant) = model.predict(test_images)\n",
        "(quadr, linear, constant) = lb.inverse_transform(quadr), lb.inverse_transform(linear), lb.inverse_transform(constant)\n",
        "\n",
        "number_errors = 0\n",
        "\n",
        "for i in range(len(quadr)):\n",
        "  if quadr[i] != lb.inverse_transform(test_quadratic_y)[i]:\n",
        "    number_errors += 1\n",
        "  if linear[i] != lb.inverse_transform(test_linear_y)[i]:\n",
        "    number_errors += 1\n",
        "  if constant[i] != lb.inverse_transform(test_constant_y)[i]:\n",
        "    number_errors += 1\n",
        "  \n",
        "print('\\n total number of errors: ', number_errors, ' out of ', (len(quadr) + len(linear) + len(constant)))"
      ],
      "metadata": {
        "colab": {
          "base_uri": "https://localhost:8080/"
        },
        "id": "gYZN8ARiWsMx",
        "outputId": "fc58711d-9d62-482e-e0ae-d7345339a2cc"
      },
      "execution_count": 150,
      "outputs": [
        {
          "output_type": "stream",
          "name": "stdout",
          "text": [
            "\n",
            " total number of errors:  274  out of  450\n"
          ]
        }
      ]
    },
    {
      "cell_type": "markdown",
      "source": [
        "# Confusion Matrices"
      ],
      "metadata": {
        "id": "hEBUQsPrs9d_"
      }
    },
    {
      "cell_type": "code",
      "source": [
        "# Confusion Matrix for Quadratic Coefficients\n",
        "\n",
        "matrix = confusion_matrix(lb.inverse_transform(test_quadratic_y), lb.inverse_transform(quadr), labels=lb.classes_)\n",
        "plt.show()\n",
        "\n",
        "matrix = pd.DataFrame(matrix, index=lb.classes_, columns=lb.classes_)\n",
        "\n",
        "fig, ax = plt.subplots(figsize=(10, 8))\n",
        "sbn.heatmap(matrix, annot=True, cmap='Greens')\n",
        "plt.title('Confusion Matrix for Quadratic Coefficient training dataset')\n",
        "plt.xlabel('Predicted label')\n",
        "plt.ylabel('True label')\n",
        "plt.show()"
      ],
      "metadata": {
        "colab": {
          "base_uri": "https://localhost:8080/",
          "height": 381
        },
        "id": "b0H-YpUbjgSY",
        "outputId": "1f2c6843-4dcb-4d7a-d9f6-19d30680444e"
      },
      "execution_count": 152,
      "outputs": [
        {
          "output_type": "error",
          "ename": "AxisError",
          "evalue": "ignored",
          "traceback": [
            "\u001b[0;31m---------------------------------------------------------------------------\u001b[0m",
            "\u001b[0;31mAxisError\u001b[0m                                 Traceback (most recent call last)",
            "\u001b[0;32m<ipython-input-152-3fe74d266fb5>\u001b[0m in \u001b[0;36m<module>\u001b[0;34m()\u001b[0m\n\u001b[1;32m      1\u001b[0m \u001b[0;31m# Confusion Matrix for Quadratic Coefficients\u001b[0m\u001b[0;34m\u001b[0m\u001b[0;34m\u001b[0m\u001b[0;34m\u001b[0m\u001b[0m\n\u001b[1;32m      2\u001b[0m \u001b[0;34m\u001b[0m\u001b[0m\n\u001b[0;32m----> 3\u001b[0;31m \u001b[0mmatrix\u001b[0m \u001b[0;34m=\u001b[0m \u001b[0mconfusion_matrix\u001b[0m\u001b[0;34m(\u001b[0m\u001b[0mlb\u001b[0m\u001b[0;34m.\u001b[0m\u001b[0minverse_transform\u001b[0m\u001b[0;34m(\u001b[0m\u001b[0mtest_quadratic_y\u001b[0m\u001b[0;34m)\u001b[0m\u001b[0;34m,\u001b[0m \u001b[0mlb\u001b[0m\u001b[0;34m.\u001b[0m\u001b[0minverse_transform\u001b[0m\u001b[0;34m(\u001b[0m\u001b[0mquadr\u001b[0m\u001b[0;34m)\u001b[0m\u001b[0;34m,\u001b[0m \u001b[0mlabels\u001b[0m\u001b[0;34m=\u001b[0m\u001b[0mlb\u001b[0m\u001b[0;34m.\u001b[0m\u001b[0mclasses_\u001b[0m\u001b[0;34m)\u001b[0m\u001b[0;34m\u001b[0m\u001b[0;34m\u001b[0m\u001b[0m\n\u001b[0m\u001b[1;32m      4\u001b[0m \u001b[0mplt\u001b[0m\u001b[0;34m.\u001b[0m\u001b[0mshow\u001b[0m\u001b[0;34m(\u001b[0m\u001b[0;34m)\u001b[0m\u001b[0;34m\u001b[0m\u001b[0;34m\u001b[0m\u001b[0m\n\u001b[1;32m      5\u001b[0m \u001b[0;34m\u001b[0m\u001b[0m\n",
            "\u001b[0;32m/usr/local/lib/python3.7/dist-packages/sklearn/preprocessing/_label.py\u001b[0m in \u001b[0;36minverse_transform\u001b[0;34m(self, Y, threshold)\u001b[0m\n\u001b[1;32m    396\u001b[0m \u001b[0;34m\u001b[0m\u001b[0m\n\u001b[1;32m    397\u001b[0m         \u001b[0;32mif\u001b[0m \u001b[0mself\u001b[0m\u001b[0;34m.\u001b[0m\u001b[0my_type_\u001b[0m \u001b[0;34m==\u001b[0m \u001b[0;34m\"multiclass\"\u001b[0m\u001b[0;34m:\u001b[0m\u001b[0;34m\u001b[0m\u001b[0;34m\u001b[0m\u001b[0m\n\u001b[0;32m--> 398\u001b[0;31m             \u001b[0my_inv\u001b[0m \u001b[0;34m=\u001b[0m \u001b[0m_inverse_binarize_multiclass\u001b[0m\u001b[0;34m(\u001b[0m\u001b[0mY\u001b[0m\u001b[0;34m,\u001b[0m \u001b[0mself\u001b[0m\u001b[0;34m.\u001b[0m\u001b[0mclasses_\u001b[0m\u001b[0;34m)\u001b[0m\u001b[0;34m\u001b[0m\u001b[0;34m\u001b[0m\u001b[0m\n\u001b[0m\u001b[1;32m    399\u001b[0m         \u001b[0;32melse\u001b[0m\u001b[0;34m:\u001b[0m\u001b[0;34m\u001b[0m\u001b[0;34m\u001b[0m\u001b[0m\n\u001b[1;32m    400\u001b[0m             y_inv = _inverse_binarize_thresholding(\n",
            "\u001b[0;32m/usr/local/lib/python3.7/dist-packages/sklearn/preprocessing/_label.py\u001b[0m in \u001b[0;36m_inverse_binarize_multiclass\u001b[0;34m(y, classes)\u001b[0m\n\u001b[1;32m    622\u001b[0m         \u001b[0;32mreturn\u001b[0m \u001b[0mclasses\u001b[0m\u001b[0;34m[\u001b[0m\u001b[0my_i_argmax\u001b[0m\u001b[0;34m]\u001b[0m\u001b[0;34m\u001b[0m\u001b[0;34m\u001b[0m\u001b[0m\n\u001b[1;32m    623\u001b[0m     \u001b[0;32melse\u001b[0m\u001b[0;34m:\u001b[0m\u001b[0;34m\u001b[0m\u001b[0;34m\u001b[0m\u001b[0m\n\u001b[0;32m--> 624\u001b[0;31m         \u001b[0;32mreturn\u001b[0m \u001b[0mclasses\u001b[0m\u001b[0;34m.\u001b[0m\u001b[0mtake\u001b[0m\u001b[0;34m(\u001b[0m\u001b[0my\u001b[0m\u001b[0;34m.\u001b[0m\u001b[0margmax\u001b[0m\u001b[0;34m(\u001b[0m\u001b[0maxis\u001b[0m\u001b[0;34m=\u001b[0m\u001b[0;36m1\u001b[0m\u001b[0;34m)\u001b[0m\u001b[0;34m,\u001b[0m \u001b[0mmode\u001b[0m\u001b[0;34m=\u001b[0m\u001b[0;34m\"clip\"\u001b[0m\u001b[0;34m)\u001b[0m\u001b[0;34m\u001b[0m\u001b[0;34m\u001b[0m\u001b[0m\n\u001b[0m\u001b[1;32m    625\u001b[0m \u001b[0;34m\u001b[0m\u001b[0m\n\u001b[1;32m    626\u001b[0m \u001b[0;34m\u001b[0m\u001b[0m\n",
            "\u001b[0;31mAxisError\u001b[0m: axis 1 is out of bounds for array of dimension 1"
          ]
        }
      ]
    },
    {
      "cell_type": "code",
      "source": [
        "# Confusion Matrix for Linear Coefficients\n",
        "\n",
        "matrix = confusion_matrix(lb.inverse_transform(test_linear_y), lb.inverse_transform(linear), labels=lb.classes_)\n",
        "plt.show()\n",
        "\n",
        "matrix = pd.DataFrame(matrix, index=lb.classes_, columns=lb.classes_)\n",
        "\n",
        "fig, ax = plt.subplots(figsize=(10, 8))\n",
        "sbn.heatmap(matrix, annot=True, cmap='Greens')\n",
        "plt.title('Confusion Matrix for Linear Coefficient training dataset')\n",
        "plt.xlabel('Predicted label')\n",
        "plt.ylabel('True label')\n",
        "plt.show()"
      ],
      "metadata": {
        "id": "BdGt7P6Urcfg"
      },
      "execution_count": null,
      "outputs": []
    },
    {
      "cell_type": "code",
      "source": [
        "# Confusion Matrix for Constant Coefficients\n",
        "\n",
        "matrix = confusion_matrix(lb.inverse_transform(test_constant_y), lb.inverse_transform(constant), labels=lb.classes_)\n",
        "plt.show()\n",
        "\n",
        "matrix = pd.DataFrame(matrix, index=lb.classes_, columns=lb.classes_)\n",
        "\n",
        "fig, ax = plt.subplots(figsize=(10, 8))\n",
        "sbn.heatmap(matrix, annot=True, cmap='Greens')\n",
        "plt.title('Confusion Matrix for Constant Coefficient training dataset')\n",
        "plt.xlabel('Predicted label')\n",
        "plt.ylabel('True label')\n",
        "plt.show()"
      ],
      "metadata": {
        "id": "uC2ds4KmrdGb"
      },
      "execution_count": null,
      "outputs": []
    }
  ],
  "metadata": {
    "accelerator": "GPU",
    "colab": {
      "collapsed_sections": [],
      "machine_shape": "hm",
      "name": "Quadratic Equations Classifier.ipynb",
      "provenance": [],
      "authorship_tag": "ABX9TyPSgjlskJLKBFfCrlqd6unh",
      "include_colab_link": true
    },
    "kernelspec": {
      "display_name": "Python 3",
      "name": "python3"
    },
    "language_info": {
      "name": "python"
    }
  },
  "nbformat": 4,
  "nbformat_minor": 0
}